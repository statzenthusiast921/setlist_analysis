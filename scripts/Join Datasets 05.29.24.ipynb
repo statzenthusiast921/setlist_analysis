{
 "cells": [
  {
   "cell_type": "markdown",
   "id": "c15ca19f",
   "metadata": {},
   "source": [
    "### Load all the setlist datasets"
   ]
  },
  {
   "cell_type": "code",
   "execution_count": 80,
   "id": "174122f1",
   "metadata": {},
   "outputs": [],
   "source": [
    "import pandas as pd\n",
    "import numpy as np\n",
    "import fuzzy_pandas as fpd\n",
    "\n",
    "path = '/Users/jonzimmerman/Desktop/Data Projects/Setlists/data/'\n",
    "folder = 'setlists/'\n",
    "dredg_setlists = pd.read_csv(path + folder + 'dredg_setlists.csv')\n",
    "gorillaz_setlists = pd.read_csv(path + folder + 'gorillaz_setlists.csv')\n",
    "\n",
    "ti1 = pd.read_csv(path + folder + 'tame_impala1_setlists.csv')\n",
    "ti2 = pd.read_csv(path + folder + 'tame_impala2_setlists.csv')\n",
    "tame_impala_setlists = pd.concat([ti1, ti2], axis=0)\n",
    "\n",
    "tv_radio_setlists = pd.read_csv(path + folder + 'tv_on_the_radio_setlists.csv')\n",
    "taylor_swift_setlists = pd.read_csv(path + folder + 'taylor_swift_setlists.csv')"
   ]
  },
  {
   "cell_type": "markdown",
   "id": "120f0f57",
   "metadata": {},
   "source": [
    "### Load the lyrics dataset"
   ]
  },
  {
   "cell_type": "code",
   "execution_count": 81,
   "id": "d4a7b23a",
   "metadata": {},
   "outputs": [
    {
     "data": {
      "text/plain": [
       "(1150, 12)"
      ]
     },
     "execution_count": 81,
     "metadata": {},
     "output_type": "execute_result"
    }
   ],
   "source": [
    "lyrics = pd.read_csv(path + 'lyrics/lyrics_cleaned_final_2024-05-29.csv')\n",
    "lyrics.shape"
   ]
  },
  {
   "cell_type": "markdown",
   "id": "35bfe727",
   "metadata": {},
   "source": [
    "### Load all the album datasets"
   ]
  },
  {
   "cell_type": "code",
   "execution_count": 82,
   "id": "e0251a41",
   "metadata": {},
   "outputs": [],
   "source": [
    "dredg_albums = pd.read_excel(path + 'albums/dredg_albums.xlsx')\n",
    "gorillaz_albums = pd.read_excel(path + 'albums/gorillaz_albums.xlsx')\n",
    "tame_impala_albums = pd.read_excel(path + 'albums/tame_impala_albums.xlsx')\n",
    "tv_radio_albums = pd.read_excel(path + 'albums/tv_on_radio_albums.xlsx')\n",
    "taylor_swift_albums = pd.read_excel(path + 'albums/taylor_swift_albums.xlsx')"
   ]
  },
  {
   "cell_type": "markdown",
   "id": "ad3f6832",
   "metadata": {},
   "source": [
    "### Step 1: Join set list data with album data"
   ]
  },
  {
   "cell_type": "markdown",
   "id": "3937cefd",
   "metadata": {},
   "source": [
    "#### Artist 1/5: Dredg"
   ]
  },
  {
   "cell_type": "code",
   "execution_count": 115,
   "id": "2f195fdd",
   "metadata": {},
   "outputs": [
    {
     "name": "stdout",
     "output_type": "stream",
     "text": [
      "Before: (4070, 16)\n",
      "After: (4070, 17)\n"
     ]
    }
   ],
   "source": [
    "dredg_setlists['ArtistName'] = 'Dredg'\n",
    "dredg_setlists['SongName'] = np.where(dredg_setlists['SongName'].isna(),'',dredg_setlists['SongName'])\n",
    "dredg = fpd.fuzzy_merge(dredg_setlists, dredg_albums,\n",
    "            left_on=['ArtistName','SongName'],\n",
    "            right_on=['artist','song'],\n",
    "            method='levenshtein',\n",
    "            threshold=0.6,\n",
    "            join = 'left-outer',\n",
    "            )\n",
    "\n",
    "dredg = dredg.drop(columns=['artist', 'song'])\n",
    "dredg = dredg.drop_duplicates(subset=['RecordID','song_num'])\n",
    "\n",
    "print('Before:', dredg_setlists.shape)\n",
    "print('After:', dredg.shape)"
   ]
  },
  {
   "cell_type": "markdown",
   "id": "c17e9938",
   "metadata": {},
   "source": [
    "#### Artist 2/5: Gorillaz"
   ]
  },
  {
   "cell_type": "code",
   "execution_count": 114,
   "id": "d38594e4",
   "metadata": {
    "scrolled": true
   },
   "outputs": [
    {
     "name": "stdout",
     "output_type": "stream",
     "text": [
      "Before: (5910, 16)\n",
      "After: (5910, 17)\n"
     ]
    }
   ],
   "source": [
    "gorillaz_setlists['ArtistName'] = 'Gorillaz'\n",
    "gorillaz_setlists['SongName'] = np.where(gorillaz_setlists['SongName'].isna(),'',gorillaz_setlists['SongName'])\n",
    "gorillaz = fpd.fuzzy_merge(gorillaz_setlists, gorillaz_albums,\n",
    "            left_on=['ArtistName','SongName'],\n",
    "            right_on=['artist','song'],\n",
    "            method='levenshtein',\n",
    "            threshold=0.6,\n",
    "            join = 'left-outer')\n",
    "\n",
    "gorillaz = gorillaz.drop(columns=['artist', 'song'])\n",
    "gorillaz = gorillaz.drop_duplicates(subset=['RecordID','song_num'])\n",
    "\n",
    "print('Before:', gorillaz_setlists.shape)\n",
    "print('After:', gorillaz.shape)"
   ]
  },
  {
   "cell_type": "markdown",
   "id": "be4b6a98",
   "metadata": {},
   "source": [
    "#### Artist 3/5: Tame Impala"
   ]
  },
  {
   "cell_type": "code",
   "execution_count": 113,
   "id": "526d1679",
   "metadata": {},
   "outputs": [
    {
     "name": "stdout",
     "output_type": "stream",
     "text": [
      "Before: (6772, 16)\n",
      "After: (6772, 17)\n"
     ]
    }
   ],
   "source": [
    "tame_impala_setlists['ArtistName'] = 'Tame Impala'\n",
    "tame_impala_setlists['SongName'] = np.where(tame_impala_setlists['SongName'].isna(),'',tame_impala_setlists['SongName'])\n",
    "tame_impala = fpd.fuzzy_merge(tame_impala_setlists, tame_impala_albums,\n",
    "            left_on=['ArtistName','SongName'],\n",
    "            right_on=['artist','song'],\n",
    "            method='levenshtein',\n",
    "            threshold=0.6,\n",
    "            join = 'left-outer')\n",
    "\n",
    "tame_impala = tame_impala.drop(columns=['artist', 'song'])\n",
    "tame_impala = tame_impala.drop_duplicates(subset=['RecordID','song_num'])\n",
    "\n",
    "print('Before:', tame_impala_setlists.shape)\n",
    "print('After:', tame_impala.shape)"
   ]
  },
  {
   "cell_type": "markdown",
   "id": "c67d563d",
   "metadata": {},
   "source": [
    "#### Artist 4/5: TV on the Radio"
   ]
  },
  {
   "cell_type": "code",
   "execution_count": 110,
   "id": "a546534d",
   "metadata": {},
   "outputs": [
    {
     "name": "stdout",
     "output_type": "stream",
     "text": [
      "Before: (3825, 16)\n",
      "After: (3825, 17)\n"
     ]
    }
   ],
   "source": [
    "tv_radio_setlists['ArtistName'] = 'TV on the Radio'\n",
    "tv_radio_setlists['SongName'] = np.where(tv_radio_setlists['SongName'].isna(),'',tv_radio_setlists['SongName'])\n",
    "tv_radio = fpd.fuzzy_merge(tv_radio_setlists, tv_radio_albums,\n",
    "            left_on=['ArtistName','SongName'],\n",
    "            right_on=['artist','song'],\n",
    "            method='levenshtein',\n",
    "            threshold=0.6,\n",
    "            join = 'left-outer')\n",
    "\n",
    "tv_radio = tv_radio.drop(columns=['artist', 'song'])\n",
    "tv_radio = tv_radio.drop_duplicates(subset=['RecordID','song_num'])\n",
    "\n",
    "print('Before:', tv_radio_setlists.shape)\n",
    "print('After:', tv_radio.shape)"
   ]
  },
  {
   "cell_type": "markdown",
   "id": "81e60ab1",
   "metadata": {},
   "source": [
    "#### Artist 5/5: Taylor Swift"
   ]
  },
  {
   "cell_type": "code",
   "execution_count": 108,
   "id": "b8e4a827",
   "metadata": {},
   "outputs": [
    {
     "name": "stdout",
     "output_type": "stream",
     "text": [
      "Before: (15031, 16)\n",
      "After: (15031, 17)\n"
     ]
    }
   ],
   "source": [
    "taylor_swift_setlists['ArtistName'] = 'Taylor Swift'\n",
    "taylor_swift_setlists['SongName'] = np.where(taylor_swift_setlists['SongName'].isna(),'',taylor_swift_setlists['SongName'])\n",
    "taylor_swift = fpd.fuzzy_merge(\n",
    "    taylor_swift_setlists, \n",
    "    taylor_swift_albums,\n",
    "    left_on=['ArtistName','SongName'],\n",
    "    right_on=['artist','song'],\n",
    "    method='levenshtein',\n",
    "    threshold=0.6,\n",
    "    join = 'left-outer'\n",
    ")\n",
    "\n",
    "taylor_swift = taylor_swift.drop(columns=['artist', 'song'])\n",
    "taylor_swift = taylor_swift.drop_duplicates(subset=['RecordID','song_num'])\n",
    "\n",
    "print('Before:', taylor_swift_setlists.shape)\n",
    "print('After:', taylor_swift.shape)"
   ]
  },
  {
   "cell_type": "markdown",
   "id": "0dcddd3e",
   "metadata": {},
   "source": [
    "### Step 2: Concatenate all the artist datasets"
   ]
  },
  {
   "cell_type": "code",
   "execution_count": 124,
   "id": "e4c321b9",
   "metadata": {},
   "outputs": [
    {
     "data": {
      "text/plain": [
       "(35608, 17)"
      ]
     },
     "execution_count": 124,
     "metadata": {},
     "output_type": "execute_result"
    }
   ],
   "source": [
    "master_setlist_df = pd.concat([dredg, gorillaz, tame_impala, tv_radio, taylor_swift], axis=0)\n",
    "master_setlist_df.shape"
   ]
  },
  {
   "cell_type": "code",
   "execution_count": 125,
   "id": "598f18c7",
   "metadata": {},
   "outputs": [
    {
     "data": {
      "text/html": [
       "<div>\n",
       "<style scoped>\n",
       "    .dataframe tbody tr th:only-of-type {\n",
       "        vertical-align: middle;\n",
       "    }\n",
       "\n",
       "    .dataframe tbody tr th {\n",
       "        vertical-align: top;\n",
       "    }\n",
       "\n",
       "    .dataframe thead th {\n",
       "        text-align: right;\n",
       "    }\n",
       "</style>\n",
       "<table border=\"1\" class=\"dataframe\">\n",
       "  <thead>\n",
       "    <tr style=\"text-align: right;\">\n",
       "      <th></th>\n",
       "      <th>RecordID</th>\n",
       "      <th>Date</th>\n",
       "      <th>VenueName</th>\n",
       "      <th>TourName</th>\n",
       "      <th>Info</th>\n",
       "      <th>City</th>\n",
       "      <th>State</th>\n",
       "      <th>Country</th>\n",
       "      <th>Latitude</th>\n",
       "      <th>Longitude</th>\n",
       "      <th>SongName</th>\n",
       "      <th>Cover</th>\n",
       "      <th>Encore</th>\n",
       "      <th>URL</th>\n",
       "      <th>song_num</th>\n",
       "      <th>ArtistName</th>\n",
       "      <th>album</th>\n",
       "    </tr>\n",
       "  </thead>\n",
       "  <tbody>\n",
       "    <tr>\n",
       "      <th>0</th>\n",
       "      <td>63c30e63</td>\n",
       "      <td>2014-05-03</td>\n",
       "      <td>Gruenspan</td>\n",
       "      <td>NaN</td>\n",
       "      <td>Second show of the day</td>\n",
       "      <td>Hamburg</td>\n",
       "      <td>Hamburg</td>\n",
       "      <td>Germany</td>\n",
       "      <td>53.55</td>\n",
       "      <td>10.0</td>\n",
       "      <td>Ode to the Sun</td>\n",
       "      <td>NaN</td>\n",
       "      <td>NaN</td>\n",
       "      <td>https://www.setlist.fm/setlist/dredg/2014/grue...</td>\n",
       "      <td>0</td>\n",
       "      <td>Dredg</td>\n",
       "      <td>Catch Without Arms</td>\n",
       "    </tr>\n",
       "    <tr>\n",
       "      <th>1</th>\n",
       "      <td>63c30e63</td>\n",
       "      <td>2014-05-03</td>\n",
       "      <td>Gruenspan</td>\n",
       "      <td>NaN</td>\n",
       "      <td>Second show of the day</td>\n",
       "      <td>Hamburg</td>\n",
       "      <td>Hamburg</td>\n",
       "      <td>Germany</td>\n",
       "      <td>53.55</td>\n",
       "      <td>10.0</td>\n",
       "      <td>Bug Eyes</td>\n",
       "      <td>NaN</td>\n",
       "      <td>NaN</td>\n",
       "      <td>https://www.setlist.fm/setlist/dredg/2014/grue...</td>\n",
       "      <td>1</td>\n",
       "      <td>Dredg</td>\n",
       "      <td>Catch Without Arms</td>\n",
       "    </tr>\n",
       "    <tr>\n",
       "      <th>2</th>\n",
       "      <td>63c30e63</td>\n",
       "      <td>2014-05-03</td>\n",
       "      <td>Gruenspan</td>\n",
       "      <td>NaN</td>\n",
       "      <td>Second show of the day</td>\n",
       "      <td>Hamburg</td>\n",
       "      <td>Hamburg</td>\n",
       "      <td>Germany</td>\n",
       "      <td>53.55</td>\n",
       "      <td>10.0</td>\n",
       "      <td>Catch Without Arms</td>\n",
       "      <td>NaN</td>\n",
       "      <td>NaN</td>\n",
       "      <td>https://www.setlist.fm/setlist/dredg/2014/grue...</td>\n",
       "      <td>2</td>\n",
       "      <td>Dredg</td>\n",
       "      <td>Catch Without Arms</td>\n",
       "    </tr>\n",
       "  </tbody>\n",
       "</table>\n",
       "</div>"
      ],
      "text/plain": [
       "   RecordID        Date  VenueName TourName                    Info     City  \\\n",
       "0  63c30e63  2014-05-03  Gruenspan      NaN  Second show of the day  Hamburg   \n",
       "1  63c30e63  2014-05-03  Gruenspan      NaN  Second show of the day  Hamburg   \n",
       "2  63c30e63  2014-05-03  Gruenspan      NaN  Second show of the day  Hamburg   \n",
       "\n",
       "     State  Country  Latitude  Longitude            SongName Cover  Encore  \\\n",
       "0  Hamburg  Germany     53.55       10.0      Ode to the Sun   NaN     NaN   \n",
       "1  Hamburg  Germany     53.55       10.0            Bug Eyes   NaN     NaN   \n",
       "2  Hamburg  Germany     53.55       10.0  Catch Without Arms   NaN     NaN   \n",
       "\n",
       "                                                 URL  song_num ArtistName  \\\n",
       "0  https://www.setlist.fm/setlist/dredg/2014/grue...         0      Dredg   \n",
       "1  https://www.setlist.fm/setlist/dredg/2014/grue...         1      Dredg   \n",
       "2  https://www.setlist.fm/setlist/dredg/2014/grue...         2      Dredg   \n",
       "\n",
       "                album  \n",
       "0  Catch Without Arms  \n",
       "1  Catch Without Arms  \n",
       "2  Catch Without Arms  "
      ]
     },
     "execution_count": 125,
     "metadata": {},
     "output_type": "execute_result"
    }
   ],
   "source": [
    "master_setlist_df.head(3)"
   ]
  },
  {
   "cell_type": "markdown",
   "id": "e3df876c",
   "metadata": {},
   "source": [
    "### Step 3: Join artist dataframe to lyrics dataframe"
   ]
  },
  {
   "cell_type": "code",
   "execution_count": 123,
   "id": "9513be33",
   "metadata": {},
   "outputs": [],
   "source": [
    "lyrics = lyrics[['artist','title','cleaned_lyrics','happy','angry','surprise','sad','fear','compound']]"
   ]
  },
  {
   "cell_type": "code",
   "execution_count": 126,
   "id": "e6bd754b",
   "metadata": {},
   "outputs": [
    {
     "name": "stdout",
     "output_type": "stream",
     "text": [
      "Before: (35608, 17)\n",
      "After: (35608, 24)\n"
     ]
    }
   ],
   "source": [
    "full_setlist_df = fpd.fuzzy_merge(\n",
    "    master_setlist_df, \n",
    "    lyrics,\n",
    "    left_on=['ArtistName','SongName'],\n",
    "    right_on=['artist','title'],\n",
    "    method='levenshtein',\n",
    "    threshold=0.6,\n",
    "    join = 'left-outer'\n",
    ")\n",
    "\n",
    "full_setlist_df = full_setlist_df.drop(columns=['artist', 'title'])\n",
    "full_setlist_df = full_setlist_df.drop_duplicates(subset=['RecordID','song_num'])\n",
    "\n",
    "print('Before:',master_setlist_df.shape)\n",
    "print('After:',full_setlist_df.shape)"
   ]
  },
  {
   "cell_type": "code",
   "execution_count": 127,
   "id": "f9757ed1",
   "metadata": {},
   "outputs": [],
   "source": [
    "#full_setlist_df.to_csv('full_setlist_df.csv')"
   ]
  },
  {
   "cell_type": "code",
   "execution_count": null,
   "id": "484a5c0b",
   "metadata": {},
   "outputs": [],
   "source": []
  }
 ],
 "metadata": {
  "kernelspec": {
   "display_name": "Python 3 (ipykernel)",
   "language": "python",
   "name": "python3"
  },
  "language_info": {
   "codemirror_mode": {
    "name": "ipython",
    "version": 3
   },
   "file_extension": ".py",
   "mimetype": "text/x-python",
   "name": "python",
   "nbconvert_exporter": "python",
   "pygments_lexer": "ipython3",
   "version": "3.9.13"
  }
 },
 "nbformat": 4,
 "nbformat_minor": 5
}
