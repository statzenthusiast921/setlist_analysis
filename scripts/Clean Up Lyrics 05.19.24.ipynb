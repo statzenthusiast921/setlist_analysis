{
 "cells": [
  {
   "cell_type": "markdown",
   "id": "9242aa5b",
   "metadata": {},
   "source": [
    "### Import libraries and read in data"
   ]
  },
  {
   "cell_type": "code",
   "execution_count": 1,
   "id": "f2b1d084",
   "metadata": {},
   "outputs": [
    {
     "data": {
      "text/plain": [
       "(1150, 3)"
      ]
     },
     "execution_count": 1,
     "metadata": {},
     "output_type": "execute_result"
    }
   ],
   "source": [
    "import pandas as pd\n",
    "import re\n",
    "path = '/Users/jonzimmerman/Desktop/Data Projects/Setlists/data/lyrics/'\n",
    "lyrics = pd.read_csv(path + 'lyrics.csv')\n",
    "lyrics.shape"
   ]
  },
  {
   "cell_type": "code",
   "execution_count": 2,
   "id": "48660bd4",
   "metadata": {},
   "outputs": [
    {
     "data": {
      "text/html": [
       "<div>\n",
       "<style scoped>\n",
       "    .dataframe tbody tr th:only-of-type {\n",
       "        vertical-align: middle;\n",
       "    }\n",
       "\n",
       "    .dataframe tbody tr th {\n",
       "        vertical-align: top;\n",
       "    }\n",
       "\n",
       "    .dataframe thead th {\n",
       "        text-align: right;\n",
       "    }\n",
       "</style>\n",
       "<table border=\"1\" class=\"dataframe\">\n",
       "  <thead>\n",
       "    <tr style=\"text-align: right;\">\n",
       "      <th></th>\n",
       "      <th>artist</th>\n",
       "      <th>title</th>\n",
       "      <th>lyrics</th>\n",
       "    </tr>\n",
       "  </thead>\n",
       "  <tbody>\n",
       "    <tr>\n",
       "      <th>0</th>\n",
       "      <td>Tame Impala</td>\n",
       "      <td>The Less I Know the Better</td>\n",
       "      <td>162 ContributorsTranslationsFrançaisTürkçeEspa...</td>\n",
       "    </tr>\n",
       "    <tr>\n",
       "      <th>1</th>\n",
       "      <td>Tame Impala</td>\n",
       "      <td>New Person, Same Old Mistakes</td>\n",
       "      <td>106 ContributorsTranslationsPortuguêsItalianoF...</td>\n",
       "    </tr>\n",
       "    <tr>\n",
       "      <th>2</th>\n",
       "      <td>Tame Impala</td>\n",
       "      <td>Let It Happen</td>\n",
       "      <td>124 ContributorsTranslationsEspañolFrançaisDeu...</td>\n",
       "    </tr>\n",
       "    <tr>\n",
       "      <th>3</th>\n",
       "      <td>Tame Impala</td>\n",
       "      <td>Yes I’m Changing</td>\n",
       "      <td>68 ContributorsTranslationsEspañolYes I’m Chan...</td>\n",
       "    </tr>\n",
       "    <tr>\n",
       "      <th>4</th>\n",
       "      <td>Tame Impala</td>\n",
       "      <td>Feels Like We Only Go Backwards</td>\n",
       "      <td>42 ContributorsTranslationsTürkçeEspañolFeels ...</td>\n",
       "    </tr>\n",
       "  </tbody>\n",
       "</table>\n",
       "</div>"
      ],
      "text/plain": [
       "        artist                            title  \\\n",
       "0  Tame Impala       The Less I Know the Better   \n",
       "1  Tame Impala    New Person, Same Old Mistakes   \n",
       "2  Tame Impala                    Let It Happen   \n",
       "3  Tame Impala                 Yes I’m Changing   \n",
       "4  Tame Impala  Feels Like We Only Go Backwards   \n",
       "\n",
       "                                              lyrics  \n",
       "0  162 ContributorsTranslationsFrançaisTürkçeEspa...  \n",
       "1  106 ContributorsTranslationsPortuguêsItalianoF...  \n",
       "2  124 ContributorsTranslationsEspañolFrançaisDeu...  \n",
       "3  68 ContributorsTranslationsEspañolYes I’m Chan...  \n",
       "4  42 ContributorsTranslationsTürkçeEspañolFeels ...  "
      ]
     },
     "execution_count": 2,
     "metadata": {},
     "output_type": "execute_result"
    }
   ],
   "source": [
    "lyrics.head()"
   ]
  },
  {
   "cell_type": "markdown",
   "id": "0aeca7b2",
   "metadata": {},
   "source": [
    "### Anything missing?"
   ]
  },
  {
   "cell_type": "code",
   "execution_count": 3,
   "id": "17ad1578",
   "metadata": {},
   "outputs": [
    {
     "name": "stdout",
     "output_type": "stream",
     "text": [
      "# of missing rows:  0\n"
     ]
    }
   ],
   "source": [
    "missing = lyrics.loc[lyrics['lyrics'].isnull()]\n",
    "print('# of missing rows: ',missing.shape[0])"
   ]
  },
  {
   "cell_type": "markdown",
   "id": "0ba6a680",
   "metadata": {},
   "source": [
    "### Check out what format the lyrics are in"
   ]
  },
  {
   "cell_type": "code",
   "execution_count": 4,
   "id": "8e731f2f",
   "metadata": {
    "scrolled": true
   },
   "outputs": [
    {
     "data": {
      "text/plain": [
       "'155 ContributorsTranslationsTürkçePortuguêsEspañolالعربيةفارسیСрпскиFrançaisItalianoHebrewPolskiDeutschNorsk (bokmål / riksmål)SlovenščinaУкраїнськаClara Bow Lyrics[Verse 1]\\n\"You look like Clara Bow\\nIn this light, remarkable\\nAll your life, did you know\\nYou\\'d be picked\\u2005like\\u2005a rose?\"\\n\\n[Pre-Chorus]\\n\"I\\'m not\\u2005trying to exaggerate\\nBut I think I\\u2005might die if it happened\\nDie if it happened to me\\nNo one in my small town\\nThought I\\'d see the lights of Manhattan\"\\n\\n[Chorus]\\n\"This town is fake, but you\\'re the real thing\\nBreath of fresh air through smoke rings\\nTake the glory, give everything\\nPromise to be dazzling\"\\n[Verse 2]\\n\"You look like Stevie Nicks\\nIn \\'75, the hair and lips\\nCrowd goes wild at her fingertips\\nHalf moonshine, a full еclipse\"\\n\\n[Pre-Chorus]\\n\"I\\'m not trying to exaggeratе\\nBut I think I might die if I made it, die if I made it\\nNo one in my small town thought I\\'d meet these suits in L.A.\\nThey all wanna say...\"\\nSee Taylor Swift LiveGet tickets as low as $72You might also like[Chorus]\\n\"This town is fake, but you\\'re the real thing\\nBreath of fresh air through smoke rings\\nTake the glory, give everything\\nPromise to be dazzling\\nThe crown is stained, but you\\'re the real queen\\nFlesh and blood amongst war machines\\nYou\\'re the new god we\\'re worshipping\\nPromise to be dazzling\"\\n\\n[Bridge]\\nBeauty is a beast that roars down on all fours\\nDemanding more\\nOnly when your girlish glow flickers just so\\nDo they let you know\\nIt\\'s hell on earth to be heavenly\\nThem\\'s the breaks, they don\\'t come gently\\n[Outro]\\n\"You look like Taylor Swift\\nIn this light, we\\'re lovin\\' it\\nYou\\'ve got edge, she never did\\nThe future\\'s bright, dazzling\"6Embed'"
      ]
     },
     "execution_count": 4,
     "metadata": {},
     "output_type": "execute_result"
    }
   ],
   "source": [
    "lyrics['lyrics'][900]"
   ]
  },
  {
   "cell_type": "markdown",
   "id": "c8b7ad8d",
   "metadata": {},
   "source": [
    "### Clean up lyrics column"
   ]
  },
  {
   "cell_type": "code",
   "execution_count": 6,
   "id": "c91b1a28",
   "metadata": {},
   "outputs": [
    {
     "data": {
      "text/plain": [
       "'you look like clara bow in this light remarkable all your life did you know youd be picked like a rose im not trying to exaggerate but i think i might die if it happened die if it happened to me no one in my small town thought id see the lights of manhattan  this town is fake but youre the real thing breath of fresh air through smoke rings take the glory give everything promise to be dazzling  you look like stevie nicks in 75 the hair and lips crowd goes wild at her fingertips half moonshine a full еclipse  im not trying to exaggeratе but i think i might die if i made it die if i made it no one in my small town thought id meet these suits in l.a. they all wanna say  this town is fake but youre the real thing breath of fresh air through smoke rings take the glory give everything promise to be dazzling the crown is stained but youre the real queen flesh and blood amongst war machines youre the new god were worshipping promise to be dazzling  beauty is a beast that roars down on all fours demanding more only when your girlish glow flickers just so do they let you know its hell on earth to be heavenly thems the breaks they dont come gently  you look like taylor swift in this light were lovin it youve got edge she never did the futures bright dazzling'"
      ]
     },
     "execution_count": 6,
     "metadata": {},
     "output_type": "execute_result"
    }
   ],
   "source": [
    "#Step 1: Remove weird stuff at the beginning before the first \\n\n",
    "lyrics['cleaned_lyrics'] = lyrics['lyrics'].str.replace(r'(?:^.*)?\\n *', ' ', regex=True)\n",
    "lyrics['cleaned_lyrics'] = lyrics['cleaned_lyrics'].str.replace(r\"\\[.*?\\]\", ' ',regex=True)\n",
    "\n",
    "#Step 2: Remove weird text that pop up in some lyrics\n",
    "lyrics['cleaned_lyrics'] = lyrics['cleaned_lyrics'].str.replace(u\"\\u2005\",' ').str.replace(u\"\\u205f\",' ')\n",
    "lyrics['cleaned_lyrics'] = lyrics['cleaned_lyrics'].str.replace(u\"\\u200b\",' ').str.replace(u\"\\u200b\",' ')\n",
    "#Step 3: Remove remaining \\n\n",
    "lyrics['cleaned_lyrics'] = lyrics['cleaned_lyrics'].str.replace(\"\\'\", \"\", regex=True).str.replace('\\n', ' ')\n",
    "#Step 4: Remove Verse1 text\n",
    "lyrics['cleaned_lyrics'] = lyrics['cleaned_lyrics'].str.split('\\[Verse 1]').str[-1].str.strip()\n",
    "#Step 5: Remove more weird text\n",
    "lyrics['cleaned_lyrics'] = lyrics['cleaned_lyrics'].str.replace(r'\\s*\\d*Embed', ' ', regex=True).str.replace('Lyrics',' ')\n",
    "#Step 6: Remove commas and quotes\n",
    "lyrics['cleaned_lyrics'] = lyrics['cleaned_lyrics'].str.replace(',',' ').str.replace('?',' ').str.replace('—',' ')\n",
    "#Step 7: Remove numbers\n",
    "lyrics['cleaned_lyrics'] = lyrics['cleaned_lyrics'].str.replace(r'^\\d+\\s+', ' ', regex=True)\n",
    "#Step 8: Remove parentheses\n",
    "lyrics['cleaned_lyrics'] = lyrics['cleaned_lyrics'].str.replace('(',' ').str.replace(')', ' ')\n",
    "#Step 9: Remove quotes \n",
    "lyrics['cleaned_lyrics'] = lyrics['cleaned_lyrics'].str.replace('\"','').str.replace('…','').str.replace('...','')\n",
    "#Step 10: Remove extra spaces\n",
    "lyrics['cleaned_lyrics'] = lyrics['cleaned_lyrics'].str.strip().str.replace('  ',' ').str.replace('-',' ').str.replace('   ',' ')\n",
    "#Step 11: Taylor Swift specific cleaning\n",
    "lyrics['cleaned_lyrics'] = lyrics['cleaned_lyrics'].str.replace('See Taylor Swift LiveGet tickets as low as $72You might also like','')\n",
    "#Step 12: Lower case\n",
    "lyrics['cleaned_lyrics'] = lyrics['cleaned_lyrics'].str.lower()\n",
    "\n",
    "#Take a look\n",
    "lyrics['cleaned_lyrics'][900]"
   ]
  },
  {
   "cell_type": "markdown",
   "id": "51102eed",
   "metadata": {},
   "source": [
    "#### Download data"
   ]
  },
  {
   "cell_type": "code",
   "execution_count": 7,
   "id": "a5dfaa1c",
   "metadata": {},
   "outputs": [],
   "source": [
    "#lyrics.to_csv('lyrics_cleaned.csv', index=False)"
   ]
  },
  {
   "cell_type": "code",
   "execution_count": null,
   "id": "60409214",
   "metadata": {},
   "outputs": [],
   "source": []
  }
 ],
 "metadata": {
  "kernelspec": {
   "display_name": "Python 3 (ipykernel)",
   "language": "python",
   "name": "python3"
  },
  "language_info": {
   "codemirror_mode": {
    "name": "ipython",
    "version": 3
   },
   "file_extension": ".py",
   "mimetype": "text/x-python",
   "name": "python",
   "nbconvert_exporter": "python",
   "pygments_lexer": "ipython3",
   "version": "3.9.13"
  }
 },
 "nbformat": 4,
 "nbformat_minor": 5
}
