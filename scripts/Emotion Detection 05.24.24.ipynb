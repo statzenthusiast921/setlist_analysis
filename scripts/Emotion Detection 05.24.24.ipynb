{
 "cells": [
  {
   "cell_type": "markdown",
   "id": "d6bd7c9c",
   "metadata": {},
   "source": [
    "### Import libraries and data"
   ]
  },
  {
   "cell_type": "code",
   "execution_count": 3,
   "id": "06b758ad",
   "metadata": {},
   "outputs": [
    {
     "name": "stderr",
     "output_type": "stream",
     "text": [
      "[nltk_data] Downloading package stopwords to\n",
      "[nltk_data]     /Users/jonzimmerman/nltk_data...\n",
      "[nltk_data]   Package stopwords is already up-to-date!\n",
      "[nltk_data] Downloading package punkt to\n",
      "[nltk_data]     /Users/jonzimmerman/nltk_data...\n",
      "[nltk_data]   Package punkt is already up-to-date!\n",
      "[nltk_data] Downloading package wordnet to\n",
      "[nltk_data]     /Users/jonzimmerman/nltk_data...\n",
      "[nltk_data]   Package wordnet is already up-to-date!\n"
     ]
    },
    {
     "data": {
      "text/plain": [
       "(1150, 3)"
      ]
     },
     "execution_count": 3,
     "metadata": {},
     "output_type": "execute_result"
    }
   ],
   "source": [
    "import pandas as pd\n",
    "import re\n",
    "#%pip install text2emotion\n",
    "import text2emotion as te\n",
    "#%pip install emoji==1.7\n",
    "\n",
    "path = '/Users/jonzimmerman/Desktop/Data Projects/Setlists/data/lyrics/'\n",
    "lyrics = pd.read_csv(path + 'lyrics_cleaned_2024-05-27.csv')\n",
    "lyrics = lyrics.drop(lyrics.columns[[0]], axis=1)\n",
    "\n",
    "lyrics.shape"
   ]
  },
  {
   "cell_type": "code",
   "execution_count": 4,
   "id": "2a8cd8e9",
   "metadata": {},
   "outputs": [
    {
     "data": {
      "text/html": [
       "<div>\n",
       "<style scoped>\n",
       "    .dataframe tbody tr th:only-of-type {\n",
       "        vertical-align: middle;\n",
       "    }\n",
       "\n",
       "    .dataframe tbody tr th {\n",
       "        vertical-align: top;\n",
       "    }\n",
       "\n",
       "    .dataframe thead th {\n",
       "        text-align: right;\n",
       "    }\n",
       "</style>\n",
       "<table border=\"1\" class=\"dataframe\">\n",
       "  <thead>\n",
       "    <tr style=\"text-align: right;\">\n",
       "      <th></th>\n",
       "      <th>title</th>\n",
       "      <th>lyrics</th>\n",
       "      <th>cleaned_lyrics</th>\n",
       "    </tr>\n",
       "  </thead>\n",
       "  <tbody>\n",
       "    <tr>\n",
       "      <th>0</th>\n",
       "      <td>The Less I Know the Better</td>\n",
       "      <td>162 ContributorsTranslationsFrançaisTürkçeEspa...</td>\n",
       "      <td>someone said they left together i ran out the ...</td>\n",
       "    </tr>\n",
       "    <tr>\n",
       "      <th>1</th>\n",
       "      <td>New Person, Same Old Mistakes</td>\n",
       "      <td>106 ContributorsTranslationsPortuguêsItalianoF...</td>\n",
       "      <td>i can just hear them now how could you let us ...</td>\n",
       "    </tr>\n",
       "    <tr>\n",
       "      <th>2</th>\n",
       "      <td>Let It Happen</td>\n",
       "      <td>124 ContributorsTranslationsEspañolFrançaisDeu...</td>\n",
       "      <td>its always around me all this noise but not ne...</td>\n",
       "    </tr>\n",
       "  </tbody>\n",
       "</table>\n",
       "</div>"
      ],
      "text/plain": [
       "                           title  \\\n",
       "0     The Less I Know the Better   \n",
       "1  New Person, Same Old Mistakes   \n",
       "2                  Let It Happen   \n",
       "\n",
       "                                              lyrics  \\\n",
       "0  162 ContributorsTranslationsFrançaisTürkçeEspa...   \n",
       "1  106 ContributorsTranslationsPortuguêsItalianoF...   \n",
       "2  124 ContributorsTranslationsEspañolFrançaisDeu...   \n",
       "\n",
       "                                      cleaned_lyrics  \n",
       "0  someone said they left together i ran out the ...  \n",
       "1  i can just hear them now how could you let us ...  \n",
       "2  its always around me all this noise but not ne...  "
      ]
     },
     "execution_count": 4,
     "metadata": {},
     "output_type": "execute_result"
    }
   ],
   "source": [
    "lyrics.head(3)"
   ]
  },
  {
   "cell_type": "markdown",
   "id": "4aa3c899",
   "metadata": {},
   "source": [
    "#### Test out text2emotion"
   ]
  },
  {
   "cell_type": "code",
   "execution_count": 77,
   "id": "f431b0fa",
   "metadata": {},
   "outputs": [
    {
     "data": {
      "text/plain": [
       "{'Happy': 0.27, 'Angry': 0.05, 'Surprise': 0.32, 'Sad': 0.18, 'Fear': 0.18}"
      ]
     },
     "execution_count": 77,
     "metadata": {},
     "output_type": "execute_result"
    }
   ],
   "source": [
    "text = lyrics['cleaned_lyrics'][0]\n",
    "te.get_emotion(text)\n"
   ]
  },
  {
   "cell_type": "markdown",
   "id": "e2aaf272",
   "metadata": {},
   "source": [
    "#### Test out LeXmo"
   ]
  },
  {
   "cell_type": "code",
   "execution_count": 5,
   "id": "7bfddf42",
   "metadata": {},
   "outputs": [
    {
     "name": "stderr",
     "output_type": "stream",
     "text": [
      "[nltk_data] Downloading package punkt to\n",
      "[nltk_data]     /Users/jonzimmerman/nltk_data...\n",
      "[nltk_data]   Package punkt is already up-to-date!\n"
     ]
    }
   ],
   "source": [
    "#%pip install LeXmo\n",
    "from LeXmo import LeXmo"
   ]
  },
  {
   "cell_type": "code",
   "execution_count": 6,
   "id": "89e2e40c",
   "metadata": {},
   "outputs": [
    {
     "data": {
      "text/plain": [
       "{'anger': 0.0,\n",
       " 'anticipation': 0.03404255319148936,\n",
       " 'disgust': 0.0,\n",
       " 'fear': 0.0,\n",
       " 'joy': 0.0425531914893617,\n",
       " 'negative': 0.03404255319148936,\n",
       " 'positive': 0.05106382978723404,\n",
       " 'sadness': 0.00425531914893617,\n",
       " 'surprise': 0.00851063829787234,\n",
       " 'trust': 0.029787234042553193}"
      ]
     },
     "execution_count": 6,
     "metadata": {},
     "output_type": "execute_result"
    }
   ],
   "source": [
    "text = lyrics['cleaned_lyrics'][0]\n",
    "emo=LeXmo.LeXmo(text)\n",
    "emo.pop('text', None)\n",
    "emo"
   ]
  },
  {
   "cell_type": "markdown",
   "id": "e015bf93",
   "metadata": {},
   "source": [
    "#### Apply text2emotion to cleaned_lyrics"
   ]
  },
  {
   "cell_type": "code",
   "execution_count": 7,
   "id": "42718c3e",
   "metadata": {
    "scrolled": false
   },
   "outputs": [
    {
     "data": {
      "text/html": [
       "<div>\n",
       "<style scoped>\n",
       "    .dataframe tbody tr th:only-of-type {\n",
       "        vertical-align: middle;\n",
       "    }\n",
       "\n",
       "    .dataframe tbody tr th {\n",
       "        vertical-align: top;\n",
       "    }\n",
       "\n",
       "    .dataframe thead th {\n",
       "        text-align: right;\n",
       "    }\n",
       "</style>\n",
       "<table border=\"1\" class=\"dataframe\">\n",
       "  <thead>\n",
       "    <tr style=\"text-align: right;\">\n",
       "      <th></th>\n",
       "      <th>title</th>\n",
       "      <th>lyrics</th>\n",
       "      <th>cleaned_lyrics</th>\n",
       "      <th>happy</th>\n",
       "      <th>angry</th>\n",
       "      <th>surprise</th>\n",
       "      <th>sad</th>\n",
       "      <th>fear</th>\n",
       "    </tr>\n",
       "  </thead>\n",
       "  <tbody>\n",
       "    <tr>\n",
       "      <th>0</th>\n",
       "      <td>The Less I Know the Better</td>\n",
       "      <td>162 ContributorsTranslationsFrançaisTürkçeEspa...</td>\n",
       "      <td>someone said they left together i ran out the ...</td>\n",
       "      <td>0.22</td>\n",
       "      <td>0.04</td>\n",
       "      <td>0.33</td>\n",
       "      <td>0.19</td>\n",
       "      <td>0.22</td>\n",
       "    </tr>\n",
       "    <tr>\n",
       "      <th>1</th>\n",
       "      <td>New Person, Same Old Mistakes</td>\n",
       "      <td>106 ContributorsTranslationsPortuguêsItalianoF...</td>\n",
       "      <td>i can just hear them now how could you let us ...</td>\n",
       "      <td>0.04</td>\n",
       "      <td>0.11</td>\n",
       "      <td>0.20</td>\n",
       "      <td>0.46</td>\n",
       "      <td>0.20</td>\n",
       "    </tr>\n",
       "    <tr>\n",
       "      <th>2</th>\n",
       "      <td>Let It Happen</td>\n",
       "      <td>124 ContributorsTranslationsEspañolFrançaisDeu...</td>\n",
       "      <td>its always around me all this noise but not ne...</td>\n",
       "      <td>0.40</td>\n",
       "      <td>0.00</td>\n",
       "      <td>0.10</td>\n",
       "      <td>0.25</td>\n",
       "      <td>0.25</td>\n",
       "    </tr>\n",
       "  </tbody>\n",
       "</table>\n",
       "</div>"
      ],
      "text/plain": [
       "                           title  \\\n",
       "0     The Less I Know the Better   \n",
       "1  New Person, Same Old Mistakes   \n",
       "2                  Let It Happen   \n",
       "\n",
       "                                              lyrics  \\\n",
       "0  162 ContributorsTranslationsFrançaisTürkçeEspa...   \n",
       "1  106 ContributorsTranslationsPortuguêsItalianoF...   \n",
       "2  124 ContributorsTranslationsEspañolFrançaisDeu...   \n",
       "\n",
       "                                      cleaned_lyrics  happy  angry  surprise  \\\n",
       "0  someone said they left together i ran out the ...   0.22   0.04      0.33   \n",
       "1  i can just hear them now how could you let us ...   0.04   0.11      0.20   \n",
       "2  its always around me all this noise but not ne...   0.40   0.00      0.10   \n",
       "\n",
       "    sad  fear  \n",
       "0  0.19  0.22  \n",
       "1  0.46  0.20  \n",
       "2  0.25  0.25  "
      ]
     },
     "execution_count": 7,
     "metadata": {},
     "output_type": "execute_result"
    }
   ],
   "source": [
    "lyrics.loc[:,'happy'] = lyrics['cleaned_lyrics'].apply(lambda cleaned_lyrics: te.get_emotion(cleaned_lyrics)['Happy'])\n",
    "lyrics.loc[:,'angry'] = lyrics['cleaned_lyrics'].apply(lambda cleaned_lyrics: te.get_emotion(cleaned_lyrics)['Angry'])\n",
    "lyrics.loc[:,'surprise'] = lyrics['cleaned_lyrics'].apply(lambda cleaned_lyrics: te.get_emotion(cleaned_lyrics)['Surprise'])\n",
    "lyrics.loc[:,'sad'] = lyrics['cleaned_lyrics'].apply(lambda cleaned_lyrics: te.get_emotion(cleaned_lyrics)['Sad'])\n",
    "lyrics.loc[:,'fear'] = lyrics['cleaned_lyrics'].apply(lambda cleaned_lyrics: te.get_emotion(cleaned_lyrics)['Fear'])\n",
    "\n",
    "lyrics.head(3)"
   ]
  },
  {
   "cell_type": "markdown",
   "id": "b0020c13",
   "metadata": {},
   "source": [
    "#### Apply VADER to cleaned_lyrics for pos-neg spectrum"
   ]
  },
  {
   "cell_type": "code",
   "execution_count": 8,
   "id": "78de6869",
   "metadata": {},
   "outputs": [
    {
     "name": "stderr",
     "output_type": "stream",
     "text": [
      "[nltk_data] Downloading package vader_lexicon to\n",
      "[nltk_data]     /Users/jonzimmerman/nltk_data...\n",
      "[nltk_data]   Package vader_lexicon is already up-to-date!\n"
     ]
    },
    {
     "data": {
      "text/html": [
       "<div>\n",
       "<style scoped>\n",
       "    .dataframe tbody tr th:only-of-type {\n",
       "        vertical-align: middle;\n",
       "    }\n",
       "\n",
       "    .dataframe tbody tr th {\n",
       "        vertical-align: top;\n",
       "    }\n",
       "\n",
       "    .dataframe thead th {\n",
       "        text-align: right;\n",
       "    }\n",
       "</style>\n",
       "<table border=\"1\" class=\"dataframe\">\n",
       "  <thead>\n",
       "    <tr style=\"text-align: right;\">\n",
       "      <th></th>\n",
       "      <th>title</th>\n",
       "      <th>lyrics</th>\n",
       "      <th>cleaned_lyrics</th>\n",
       "      <th>happy</th>\n",
       "      <th>angry</th>\n",
       "      <th>surprise</th>\n",
       "      <th>sad</th>\n",
       "      <th>fear</th>\n",
       "      <th>scores</th>\n",
       "      <th>compound</th>\n",
       "      <th>comp_score</th>\n",
       "    </tr>\n",
       "  </thead>\n",
       "  <tbody>\n",
       "    <tr>\n",
       "      <th>0</th>\n",
       "      <td>The Less I Know the Better</td>\n",
       "      <td>162 ContributorsTranslationsFrançaisTürkçeEspa...</td>\n",
       "      <td>someone said they left together i ran out the ...</td>\n",
       "      <td>0.22</td>\n",
       "      <td>0.04</td>\n",
       "      <td>0.33</td>\n",
       "      <td>0.19</td>\n",
       "      <td>0.22</td>\n",
       "      <td>{'neg': 0.077, 'neu': 0.73, 'pos': 0.193, 'com...</td>\n",
       "      <td>0.9804</td>\n",
       "      <td>pos</td>\n",
       "    </tr>\n",
       "    <tr>\n",
       "      <th>1</th>\n",
       "      <td>New Person, Same Old Mistakes</td>\n",
       "      <td>106 ContributorsTranslationsPortuguêsItalianoF...</td>\n",
       "      <td>i can just hear them now how could you let us ...</td>\n",
       "      <td>0.04</td>\n",
       "      <td>0.11</td>\n",
       "      <td>0.20</td>\n",
       "      <td>0.46</td>\n",
       "      <td>0.20</td>\n",
       "      <td>{'neg': 0.179, 'neu': 0.698, 'pos': 0.123, 'co...</td>\n",
       "      <td>-0.9792</td>\n",
       "      <td>neg</td>\n",
       "    </tr>\n",
       "    <tr>\n",
       "      <th>2</th>\n",
       "      <td>Let It Happen</td>\n",
       "      <td>124 ContributorsTranslationsEspañolFrançaisDeu...</td>\n",
       "      <td>its always around me all this noise but not ne...</td>\n",
       "      <td>0.40</td>\n",
       "      <td>0.00</td>\n",
       "      <td>0.10</td>\n",
       "      <td>0.25</td>\n",
       "      <td>0.25</td>\n",
       "      <td>{'neg': 0.02, 'neu': 0.882, 'pos': 0.097, 'com...</td>\n",
       "      <td>0.9848</td>\n",
       "      <td>pos</td>\n",
       "    </tr>\n",
       "  </tbody>\n",
       "</table>\n",
       "</div>"
      ],
      "text/plain": [
       "                           title  \\\n",
       "0     The Less I Know the Better   \n",
       "1  New Person, Same Old Mistakes   \n",
       "2                  Let It Happen   \n",
       "\n",
       "                                              lyrics  \\\n",
       "0  162 ContributorsTranslationsFrançaisTürkçeEspa...   \n",
       "1  106 ContributorsTranslationsPortuguêsItalianoF...   \n",
       "2  124 ContributorsTranslationsEspañolFrançaisDeu...   \n",
       "\n",
       "                                      cleaned_lyrics  happy  angry  surprise  \\\n",
       "0  someone said they left together i ran out the ...   0.22   0.04      0.33   \n",
       "1  i can just hear them now how could you let us ...   0.04   0.11      0.20   \n",
       "2  its always around me all this noise but not ne...   0.40   0.00      0.10   \n",
       "\n",
       "    sad  fear                                             scores  compound  \\\n",
       "0  0.19  0.22  {'neg': 0.077, 'neu': 0.73, 'pos': 0.193, 'com...    0.9804   \n",
       "1  0.46  0.20  {'neg': 0.179, 'neu': 0.698, 'pos': 0.123, 'co...   -0.9792   \n",
       "2  0.25  0.25  {'neg': 0.02, 'neu': 0.882, 'pos': 0.097, 'com...    0.9848   \n",
       "\n",
       "  comp_score  \n",
       "0        pos  \n",
       "1        neg  \n",
       "2        pos  "
      ]
     },
     "execution_count": 8,
     "metadata": {},
     "output_type": "execute_result"
    }
   ],
   "source": [
    "import nltk\n",
    "nltk.download('vader_lexicon')\n",
    "from nltk.sentiment.vader import SentimentIntensityAnalyzer\n",
    "\n",
    "#VADER\n",
    "sid = SentimentIntensityAnalyzer()\n",
    "lyrics['scores'] = lyrics['cleaned_lyrics'].apply(lambda cleaned_lyrics: sid.polarity_scores(cleaned_lyrics))\n",
    "lyrics['compound']  = lyrics['scores'].apply(lambda score_dict: score_dict['compound'])\n",
    "lyrics['comp_score'] = lyrics['compound'].apply(lambda c: 'pos' if c >=0 else 'neg')\n",
    "lyrics.head(3)"
   ]
  },
  {
   "cell_type": "markdown",
   "id": "63eebf96",
   "metadata": {},
   "source": [
    "#### Download data"
   ]
  },
  {
   "cell_type": "code",
   "execution_count": 10,
   "id": "46376b03",
   "metadata": {},
   "outputs": [],
   "source": [
    "#lyrics.to_csv('lyrics_cleaned_final.csv', index=False)"
   ]
  },
  {
   "cell_type": "code",
   "execution_count": null,
   "id": "4058c89d",
   "metadata": {},
   "outputs": [],
   "source": []
  }
 ],
 "metadata": {
  "kernelspec": {
   "display_name": "Python 3 (ipykernel)",
   "language": "python",
   "name": "python3"
  },
  "language_info": {
   "codemirror_mode": {
    "name": "ipython",
    "version": 3
   },
   "file_extension": ".py",
   "mimetype": "text/x-python",
   "name": "python",
   "nbconvert_exporter": "python",
   "pygments_lexer": "ipython3",
   "version": "3.9.13"
  }
 },
 "nbformat": 4,
 "nbformat_minor": 5
}
